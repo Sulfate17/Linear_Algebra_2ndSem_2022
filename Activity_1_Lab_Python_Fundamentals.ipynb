{
  "nbformat": 4,
  "nbformat_minor": 0,
  "metadata": {
    "colab": {
      "name": "Activity 1 Lab Python Fundamentals",
      "provenance": [],
      "collapsed_sections": [],
      "authorship_tag": "ABX9TyOrm/dTqJCmy9dWz/PjEVeZ",
      "include_colab_link": true
    },
    "kernelspec": {
      "name": "python3",
      "display_name": "Python 3"
    },
    "language_info": {
      "name": "python"
    }
  },
  "cells": [
    {
      "cell_type": "markdown",
      "metadata": {
        "id": "view-in-github",
        "colab_type": "text"
      },
      "source": [
        "<a href=\"https://colab.research.google.com/github/Sulfate17/Linear_Algebra_ChE_2ndSem_2022/blob/main/Activity_1_Lab_Python_Fundamentals.ipynb\" target=\"_parent\"><img src=\"https://colab.research.google.com/assets/colab-badge.svg\" alt=\"Open In Colab\"/></a>"
      ]
    },
    {
      "cell_type": "code",
      "execution_count": 2,
      "metadata": {
        "colab": {
          "base_uri": "https://localhost:8080/"
        },
        "id": "CgT4K7tVQgPn",
        "outputId": "dc32ab4f-4a5a-4cc7-9861-fd2ee53a08e9"
      },
      "outputs": [
        {
          "output_type": "stream",
          "name": "stdout",
          "text": [
            "Name: Faith Sultan\n",
            "course: Linear Algebra\n",
            "Enter prelim grade: 88\n",
            "Enter midterm grade: 85\n",
            "Enter finals grade: 90\n",
            "Good day Faith Sultan, your semestral grade in Linear Algebra is: 87.90\n",
            "😀\n"
          ]
        }
      ],
      "source": [
        "name = input(\"Name: \")\n",
        "course = input(\"course: \")\n",
        "pg = float(input(\"Enter prelim grade: \"))\n",
        "mg = float(input(\"Enter midterm grade: \"))\n",
        "fg = float(input(\"Enter finals grade: \"))\n",
        "\n",
        "sem_grade =float(0.3*pg + 0.3*mg + 0.4*fg)\n",
        "print(\"Good day {}, your semestral grade in {} is: {:.2f}\" .format(name, course, sem_grade))\n",
        "\n",
        "happy, lol, sad = \"\\U0001F600\",\"\\U0001F606\",\"\\U0001F62D\"\n",
        "if(sem_grade > 70.00):\n",
        "  print(\"\\U0001F600\")\n",
        "elif(sem_grade == 70.00):\n",
        "  print(\"\\U0001F606\")\n",
        "elif(sem_grade < 70.00):\n",
        "  print(\"\\U0001F62D\")"
      ]
    }
  ]
}